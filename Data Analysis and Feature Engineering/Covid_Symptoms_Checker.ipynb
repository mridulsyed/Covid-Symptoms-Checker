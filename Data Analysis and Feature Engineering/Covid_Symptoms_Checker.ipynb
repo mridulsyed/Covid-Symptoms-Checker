{
  "nbformat": 4,
  "nbformat_minor": 0,
  "metadata": {
    "colab": {
      "name": "Covid_Symptoms_Checker.ipynb",
      "provenance": [],
      "collapsed_sections": [],
      "authorship_tag": "ABX9TyMCzLphmiI7XrkwqkqFbG1n",
      "include_colab_link": true
    },
    "kernelspec": {
      "display_name": "Python 3",
      "name": "python3"
    }
  },
  "cells": [
    {
      "cell_type": "markdown",
      "metadata": {
        "id": "view-in-github",
        "colab_type": "text"
      },
      "source": [
        "<a href=\"https://colab.research.google.com/github/Azmal16/Covid_Symptoms_Predict_with_Machine_Learning/blob/main/Data%20Analysis%20and%20Feature%20Engineering/Covid_Symptoms_Checker.ipynb\" target=\"_parent\"><img src=\"https://colab.research.google.com/assets/colab-badge.svg\" alt=\"Open In Colab\"/></a>"
      ]
    },
    {
      "cell_type": "markdown",
      "metadata": {
        "id": "toF5JtQB_UnL"
      },
      "source": [
        "<h2>Importing the modules"
      ]
    },
    {
      "cell_type": "code",
      "metadata": {
        "id": "TDz536SgxT2E"
      },
      "source": [
        "import numpy as np\n",
        "import pandas as pd"
      ],
      "execution_count": 1,
      "outputs": []
    },
    {
      "cell_type": "markdown",
      "metadata": {
        "id": "dCWUHjnIxN3w"
      },
      "source": [
        "<h2>Loading dataset from Github.</h2>\n",
        "[0 = Absent, 1 = Present]"
      ]
    },
    {
      "cell_type": "code",
      "metadata": {
        "colab": {
          "base_uri": "https://localhost:8080/",
          "height": 473
        },
        "id": "t2pmyDg5w3hB",
        "outputId": "1177d68e-bdc3-4d88-9baf-f0269c980928"
      },
      "source": [
        "url = 'https://raw.githubusercontent.com/Azmal16/Covid_Symptoms_Predict_with_Machine_Learning/main/Cleaned-Data.csv'\n",
        "df = pd.read_csv(url)\n",
        "display(df)"
      ],
      "execution_count": 2,
      "outputs": [
        {
          "output_type": "display_data",
          "data": {
            "text/html": [
              "<div>\n",
              "<style scoped>\n",
              "    .dataframe tbody tr th:only-of-type {\n",
              "        vertical-align: middle;\n",
              "    }\n",
              "\n",
              "    .dataframe tbody tr th {\n",
              "        vertical-align: top;\n",
              "    }\n",
              "\n",
              "    .dataframe thead th {\n",
              "        text-align: right;\n",
              "    }\n",
              "</style>\n",
              "<table border=\"1\" class=\"dataframe\">\n",
              "  <thead>\n",
              "    <tr style=\"text-align: right;\">\n",
              "      <th></th>\n",
              "      <th>Fever</th>\n",
              "      <th>Tiredness</th>\n",
              "      <th>Dry-Cough</th>\n",
              "      <th>Difficulty-in-Breathing</th>\n",
              "      <th>Sore-Throat</th>\n",
              "      <th>None_Sympton</th>\n",
              "      <th>Pains</th>\n",
              "      <th>Nasal-Congestion</th>\n",
              "      <th>Runny-Nose</th>\n",
              "      <th>Diarrhea</th>\n",
              "      <th>None_Experiencing</th>\n",
              "      <th>Age_0-9</th>\n",
              "      <th>Age_10-19</th>\n",
              "      <th>Age_20-24</th>\n",
              "      <th>Age_25-59</th>\n",
              "      <th>Age_60+</th>\n",
              "      <th>Gender_Female</th>\n",
              "      <th>Gender_Male</th>\n",
              "      <th>Gender_Transgender</th>\n",
              "      <th>Severity_Mild</th>\n",
              "      <th>Severity_Moderate</th>\n",
              "      <th>Severity_None</th>\n",
              "      <th>Severity_Severe</th>\n",
              "      <th>Contact_Dont-Know</th>\n",
              "      <th>Contact_No</th>\n",
              "      <th>Contact_Yes</th>\n",
              "      <th>Country</th>\n",
              "    </tr>\n",
              "  </thead>\n",
              "  <tbody>\n",
              "    <tr>\n",
              "      <th>0</th>\n",
              "      <td>1</td>\n",
              "      <td>1</td>\n",
              "      <td>1</td>\n",
              "      <td>1</td>\n",
              "      <td>1</td>\n",
              "      <td>0</td>\n",
              "      <td>1</td>\n",
              "      <td>1</td>\n",
              "      <td>1</td>\n",
              "      <td>1</td>\n",
              "      <td>0</td>\n",
              "      <td>1</td>\n",
              "      <td>0</td>\n",
              "      <td>0</td>\n",
              "      <td>0</td>\n",
              "      <td>0</td>\n",
              "      <td>0</td>\n",
              "      <td>1</td>\n",
              "      <td>0</td>\n",
              "      <td>1</td>\n",
              "      <td>0</td>\n",
              "      <td>0</td>\n",
              "      <td>0</td>\n",
              "      <td>0</td>\n",
              "      <td>0</td>\n",
              "      <td>1</td>\n",
              "      <td>China</td>\n",
              "    </tr>\n",
              "    <tr>\n",
              "      <th>1</th>\n",
              "      <td>1</td>\n",
              "      <td>1</td>\n",
              "      <td>1</td>\n",
              "      <td>1</td>\n",
              "      <td>1</td>\n",
              "      <td>0</td>\n",
              "      <td>1</td>\n",
              "      <td>1</td>\n",
              "      <td>1</td>\n",
              "      <td>1</td>\n",
              "      <td>0</td>\n",
              "      <td>1</td>\n",
              "      <td>0</td>\n",
              "      <td>0</td>\n",
              "      <td>0</td>\n",
              "      <td>0</td>\n",
              "      <td>0</td>\n",
              "      <td>1</td>\n",
              "      <td>0</td>\n",
              "      <td>1</td>\n",
              "      <td>0</td>\n",
              "      <td>0</td>\n",
              "      <td>0</td>\n",
              "      <td>0</td>\n",
              "      <td>1</td>\n",
              "      <td>0</td>\n",
              "      <td>China</td>\n",
              "    </tr>\n",
              "    <tr>\n",
              "      <th>2</th>\n",
              "      <td>1</td>\n",
              "      <td>1</td>\n",
              "      <td>1</td>\n",
              "      <td>1</td>\n",
              "      <td>1</td>\n",
              "      <td>0</td>\n",
              "      <td>1</td>\n",
              "      <td>1</td>\n",
              "      <td>1</td>\n",
              "      <td>1</td>\n",
              "      <td>0</td>\n",
              "      <td>1</td>\n",
              "      <td>0</td>\n",
              "      <td>0</td>\n",
              "      <td>0</td>\n",
              "      <td>0</td>\n",
              "      <td>0</td>\n",
              "      <td>1</td>\n",
              "      <td>0</td>\n",
              "      <td>1</td>\n",
              "      <td>0</td>\n",
              "      <td>0</td>\n",
              "      <td>0</td>\n",
              "      <td>1</td>\n",
              "      <td>0</td>\n",
              "      <td>0</td>\n",
              "      <td>China</td>\n",
              "    </tr>\n",
              "    <tr>\n",
              "      <th>3</th>\n",
              "      <td>1</td>\n",
              "      <td>1</td>\n",
              "      <td>1</td>\n",
              "      <td>1</td>\n",
              "      <td>1</td>\n",
              "      <td>0</td>\n",
              "      <td>1</td>\n",
              "      <td>1</td>\n",
              "      <td>1</td>\n",
              "      <td>1</td>\n",
              "      <td>0</td>\n",
              "      <td>1</td>\n",
              "      <td>0</td>\n",
              "      <td>0</td>\n",
              "      <td>0</td>\n",
              "      <td>0</td>\n",
              "      <td>0</td>\n",
              "      <td>1</td>\n",
              "      <td>0</td>\n",
              "      <td>0</td>\n",
              "      <td>1</td>\n",
              "      <td>0</td>\n",
              "      <td>0</td>\n",
              "      <td>0</td>\n",
              "      <td>0</td>\n",
              "      <td>1</td>\n",
              "      <td>China</td>\n",
              "    </tr>\n",
              "    <tr>\n",
              "      <th>4</th>\n",
              "      <td>1</td>\n",
              "      <td>1</td>\n",
              "      <td>1</td>\n",
              "      <td>1</td>\n",
              "      <td>1</td>\n",
              "      <td>0</td>\n",
              "      <td>1</td>\n",
              "      <td>1</td>\n",
              "      <td>1</td>\n",
              "      <td>1</td>\n",
              "      <td>0</td>\n",
              "      <td>1</td>\n",
              "      <td>0</td>\n",
              "      <td>0</td>\n",
              "      <td>0</td>\n",
              "      <td>0</td>\n",
              "      <td>0</td>\n",
              "      <td>1</td>\n",
              "      <td>0</td>\n",
              "      <td>0</td>\n",
              "      <td>1</td>\n",
              "      <td>0</td>\n",
              "      <td>0</td>\n",
              "      <td>0</td>\n",
              "      <td>1</td>\n",
              "      <td>0</td>\n",
              "      <td>China</td>\n",
              "    </tr>\n",
              "    <tr>\n",
              "      <th>...</th>\n",
              "      <td>...</td>\n",
              "      <td>...</td>\n",
              "      <td>...</td>\n",
              "      <td>...</td>\n",
              "      <td>...</td>\n",
              "      <td>...</td>\n",
              "      <td>...</td>\n",
              "      <td>...</td>\n",
              "      <td>...</td>\n",
              "      <td>...</td>\n",
              "      <td>...</td>\n",
              "      <td>...</td>\n",
              "      <td>...</td>\n",
              "      <td>...</td>\n",
              "      <td>...</td>\n",
              "      <td>...</td>\n",
              "      <td>...</td>\n",
              "      <td>...</td>\n",
              "      <td>...</td>\n",
              "      <td>...</td>\n",
              "      <td>...</td>\n",
              "      <td>...</td>\n",
              "      <td>...</td>\n",
              "      <td>...</td>\n",
              "      <td>...</td>\n",
              "      <td>...</td>\n",
              "      <td>...</td>\n",
              "    </tr>\n",
              "    <tr>\n",
              "      <th>316795</th>\n",
              "      <td>0</td>\n",
              "      <td>0</td>\n",
              "      <td>0</td>\n",
              "      <td>0</td>\n",
              "      <td>0</td>\n",
              "      <td>1</td>\n",
              "      <td>0</td>\n",
              "      <td>0</td>\n",
              "      <td>0</td>\n",
              "      <td>0</td>\n",
              "      <td>1</td>\n",
              "      <td>0</td>\n",
              "      <td>0</td>\n",
              "      <td>0</td>\n",
              "      <td>0</td>\n",
              "      <td>1</td>\n",
              "      <td>0</td>\n",
              "      <td>0</td>\n",
              "      <td>1</td>\n",
              "      <td>0</td>\n",
              "      <td>0</td>\n",
              "      <td>0</td>\n",
              "      <td>1</td>\n",
              "      <td>0</td>\n",
              "      <td>1</td>\n",
              "      <td>0</td>\n",
              "      <td>Other</td>\n",
              "    </tr>\n",
              "    <tr>\n",
              "      <th>316796</th>\n",
              "      <td>0</td>\n",
              "      <td>0</td>\n",
              "      <td>0</td>\n",
              "      <td>0</td>\n",
              "      <td>0</td>\n",
              "      <td>1</td>\n",
              "      <td>0</td>\n",
              "      <td>0</td>\n",
              "      <td>0</td>\n",
              "      <td>0</td>\n",
              "      <td>1</td>\n",
              "      <td>0</td>\n",
              "      <td>0</td>\n",
              "      <td>0</td>\n",
              "      <td>0</td>\n",
              "      <td>1</td>\n",
              "      <td>0</td>\n",
              "      <td>0</td>\n",
              "      <td>1</td>\n",
              "      <td>0</td>\n",
              "      <td>0</td>\n",
              "      <td>0</td>\n",
              "      <td>1</td>\n",
              "      <td>1</td>\n",
              "      <td>0</td>\n",
              "      <td>0</td>\n",
              "      <td>Other</td>\n",
              "    </tr>\n",
              "    <tr>\n",
              "      <th>316797</th>\n",
              "      <td>0</td>\n",
              "      <td>0</td>\n",
              "      <td>0</td>\n",
              "      <td>0</td>\n",
              "      <td>0</td>\n",
              "      <td>1</td>\n",
              "      <td>0</td>\n",
              "      <td>0</td>\n",
              "      <td>0</td>\n",
              "      <td>0</td>\n",
              "      <td>1</td>\n",
              "      <td>0</td>\n",
              "      <td>0</td>\n",
              "      <td>0</td>\n",
              "      <td>0</td>\n",
              "      <td>1</td>\n",
              "      <td>0</td>\n",
              "      <td>0</td>\n",
              "      <td>1</td>\n",
              "      <td>0</td>\n",
              "      <td>0</td>\n",
              "      <td>1</td>\n",
              "      <td>0</td>\n",
              "      <td>0</td>\n",
              "      <td>0</td>\n",
              "      <td>1</td>\n",
              "      <td>Other</td>\n",
              "    </tr>\n",
              "    <tr>\n",
              "      <th>316798</th>\n",
              "      <td>0</td>\n",
              "      <td>0</td>\n",
              "      <td>0</td>\n",
              "      <td>0</td>\n",
              "      <td>0</td>\n",
              "      <td>1</td>\n",
              "      <td>0</td>\n",
              "      <td>0</td>\n",
              "      <td>0</td>\n",
              "      <td>0</td>\n",
              "      <td>1</td>\n",
              "      <td>0</td>\n",
              "      <td>0</td>\n",
              "      <td>0</td>\n",
              "      <td>0</td>\n",
              "      <td>1</td>\n",
              "      <td>0</td>\n",
              "      <td>0</td>\n",
              "      <td>1</td>\n",
              "      <td>0</td>\n",
              "      <td>0</td>\n",
              "      <td>1</td>\n",
              "      <td>0</td>\n",
              "      <td>0</td>\n",
              "      <td>1</td>\n",
              "      <td>0</td>\n",
              "      <td>Other</td>\n",
              "    </tr>\n",
              "    <tr>\n",
              "      <th>316799</th>\n",
              "      <td>0</td>\n",
              "      <td>0</td>\n",
              "      <td>0</td>\n",
              "      <td>0</td>\n",
              "      <td>0</td>\n",
              "      <td>1</td>\n",
              "      <td>0</td>\n",
              "      <td>0</td>\n",
              "      <td>0</td>\n",
              "      <td>0</td>\n",
              "      <td>1</td>\n",
              "      <td>0</td>\n",
              "      <td>0</td>\n",
              "      <td>0</td>\n",
              "      <td>0</td>\n",
              "      <td>1</td>\n",
              "      <td>0</td>\n",
              "      <td>0</td>\n",
              "      <td>1</td>\n",
              "      <td>0</td>\n",
              "      <td>0</td>\n",
              "      <td>1</td>\n",
              "      <td>0</td>\n",
              "      <td>1</td>\n",
              "      <td>0</td>\n",
              "      <td>0</td>\n",
              "      <td>Other</td>\n",
              "    </tr>\n",
              "  </tbody>\n",
              "</table>\n",
              "<p>316800 rows × 27 columns</p>\n",
              "</div>"
            ],
            "text/plain": [
              "        Fever  Tiredness  Dry-Cough  ...  Contact_No  Contact_Yes  Country\n",
              "0           1          1          1  ...           0            1    China\n",
              "1           1          1          1  ...           1            0    China\n",
              "2           1          1          1  ...           0            0    China\n",
              "3           1          1          1  ...           0            1    China\n",
              "4           1          1          1  ...           1            0    China\n",
              "...       ...        ...        ...  ...         ...          ...      ...\n",
              "316795      0          0          0  ...           1            0    Other\n",
              "316796      0          0          0  ...           0            0    Other\n",
              "316797      0          0          0  ...           0            1    Other\n",
              "316798      0          0          0  ...           1            0    Other\n",
              "316799      0          0          0  ...           0            0    Other\n",
              "\n",
              "[316800 rows x 27 columns]"
            ]
          },
          "metadata": {
            "tags": []
          }
        }
      ]
    },
    {
      "cell_type": "code",
      "metadata": {
        "colab": {
          "base_uri": "https://localhost:8080/"
        },
        "id": "zM0XACIIxzE1",
        "outputId": "a2d91490-8aec-49f7-b2f6-71ec75a9dc35"
      },
      "source": [
        "print(df.shape)"
      ],
      "execution_count": 3,
      "outputs": [
        {
          "output_type": "stream",
          "text": [
            "(316800, 27)\n"
          ],
          "name": "stdout"
        }
      ]
    },
    {
      "cell_type": "code",
      "metadata": {
        "colab": {
          "base_uri": "https://localhost:8080/",
          "height": 351
        },
        "id": "P3zJUhGRx4OF",
        "outputId": "d088837a-0eae-4cda-de8d-d534a294ff98"
      },
      "source": [
        "display(df.describe())"
      ],
      "execution_count": 4,
      "outputs": [
        {
          "output_type": "display_data",
          "data": {
            "text/html": [
              "<div>\n",
              "<style scoped>\n",
              "    .dataframe tbody tr th:only-of-type {\n",
              "        vertical-align: middle;\n",
              "    }\n",
              "\n",
              "    .dataframe tbody tr th {\n",
              "        vertical-align: top;\n",
              "    }\n",
              "\n",
              "    .dataframe thead th {\n",
              "        text-align: right;\n",
              "    }\n",
              "</style>\n",
              "<table border=\"1\" class=\"dataframe\">\n",
              "  <thead>\n",
              "    <tr style=\"text-align: right;\">\n",
              "      <th></th>\n",
              "      <th>Fever</th>\n",
              "      <th>Tiredness</th>\n",
              "      <th>Dry-Cough</th>\n",
              "      <th>Difficulty-in-Breathing</th>\n",
              "      <th>Sore-Throat</th>\n",
              "      <th>None_Sympton</th>\n",
              "      <th>Pains</th>\n",
              "      <th>Nasal-Congestion</th>\n",
              "      <th>Runny-Nose</th>\n",
              "      <th>Diarrhea</th>\n",
              "      <th>None_Experiencing</th>\n",
              "      <th>Age_0-9</th>\n",
              "      <th>Age_10-19</th>\n",
              "      <th>Age_20-24</th>\n",
              "      <th>Age_25-59</th>\n",
              "      <th>Age_60+</th>\n",
              "      <th>Gender_Female</th>\n",
              "      <th>Gender_Male</th>\n",
              "      <th>Gender_Transgender</th>\n",
              "      <th>Severity_Mild</th>\n",
              "      <th>Severity_Moderate</th>\n",
              "      <th>Severity_None</th>\n",
              "      <th>Severity_Severe</th>\n",
              "      <th>Contact_Dont-Know</th>\n",
              "      <th>Contact_No</th>\n",
              "      <th>Contact_Yes</th>\n",
              "    </tr>\n",
              "  </thead>\n",
              "  <tbody>\n",
              "    <tr>\n",
              "      <th>count</th>\n",
              "      <td>316800.000000</td>\n",
              "      <td>316800.000000</td>\n",
              "      <td>316800.000000</td>\n",
              "      <td>316800.000000</td>\n",
              "      <td>316800.000000</td>\n",
              "      <td>316800.000000</td>\n",
              "      <td>316800.000000</td>\n",
              "      <td>316800.000000</td>\n",
              "      <td>316800.000000</td>\n",
              "      <td>316800.000000</td>\n",
              "      <td>316800.000000</td>\n",
              "      <td>316800.000000</td>\n",
              "      <td>316800.000000</td>\n",
              "      <td>316800.000000</td>\n",
              "      <td>316800.000000</td>\n",
              "      <td>316800.000000</td>\n",
              "      <td>316800.000000</td>\n",
              "      <td>316800.000000</td>\n",
              "      <td>316800.000000</td>\n",
              "      <td>316800.000000</td>\n",
              "      <td>316800.000000</td>\n",
              "      <td>316800.000000</td>\n",
              "      <td>316800.000000</td>\n",
              "      <td>316800.000000</td>\n",
              "      <td>316800.000000</td>\n",
              "      <td>316800.000000</td>\n",
              "    </tr>\n",
              "    <tr>\n",
              "      <th>mean</th>\n",
              "      <td>0.312500</td>\n",
              "      <td>0.500000</td>\n",
              "      <td>0.562500</td>\n",
              "      <td>0.500000</td>\n",
              "      <td>0.312500</td>\n",
              "      <td>0.062500</td>\n",
              "      <td>0.363636</td>\n",
              "      <td>0.545455</td>\n",
              "      <td>0.545455</td>\n",
              "      <td>0.363636</td>\n",
              "      <td>0.090909</td>\n",
              "      <td>0.200000</td>\n",
              "      <td>0.200000</td>\n",
              "      <td>0.200000</td>\n",
              "      <td>0.200000</td>\n",
              "      <td>0.200000</td>\n",
              "      <td>0.333333</td>\n",
              "      <td>0.333333</td>\n",
              "      <td>0.333333</td>\n",
              "      <td>0.250000</td>\n",
              "      <td>0.250000</td>\n",
              "      <td>0.250000</td>\n",
              "      <td>0.250000</td>\n",
              "      <td>0.333333</td>\n",
              "      <td>0.333333</td>\n",
              "      <td>0.333333</td>\n",
              "    </tr>\n",
              "    <tr>\n",
              "      <th>std</th>\n",
              "      <td>0.463513</td>\n",
              "      <td>0.500001</td>\n",
              "      <td>0.496079</td>\n",
              "      <td>0.500001</td>\n",
              "      <td>0.463513</td>\n",
              "      <td>0.242062</td>\n",
              "      <td>0.481046</td>\n",
              "      <td>0.497930</td>\n",
              "      <td>0.497930</td>\n",
              "      <td>0.481046</td>\n",
              "      <td>0.287480</td>\n",
              "      <td>0.400001</td>\n",
              "      <td>0.400001</td>\n",
              "      <td>0.400001</td>\n",
              "      <td>0.400001</td>\n",
              "      <td>0.400001</td>\n",
              "      <td>0.471405</td>\n",
              "      <td>0.471405</td>\n",
              "      <td>0.471405</td>\n",
              "      <td>0.433013</td>\n",
              "      <td>0.433013</td>\n",
              "      <td>0.433013</td>\n",
              "      <td>0.433013</td>\n",
              "      <td>0.471405</td>\n",
              "      <td>0.471405</td>\n",
              "      <td>0.471405</td>\n",
              "    </tr>\n",
              "    <tr>\n",
              "      <th>min</th>\n",
              "      <td>0.000000</td>\n",
              "      <td>0.000000</td>\n",
              "      <td>0.000000</td>\n",
              "      <td>0.000000</td>\n",
              "      <td>0.000000</td>\n",
              "      <td>0.000000</td>\n",
              "      <td>0.000000</td>\n",
              "      <td>0.000000</td>\n",
              "      <td>0.000000</td>\n",
              "      <td>0.000000</td>\n",
              "      <td>0.000000</td>\n",
              "      <td>0.000000</td>\n",
              "      <td>0.000000</td>\n",
              "      <td>0.000000</td>\n",
              "      <td>0.000000</td>\n",
              "      <td>0.000000</td>\n",
              "      <td>0.000000</td>\n",
              "      <td>0.000000</td>\n",
              "      <td>0.000000</td>\n",
              "      <td>0.000000</td>\n",
              "      <td>0.000000</td>\n",
              "      <td>0.000000</td>\n",
              "      <td>0.000000</td>\n",
              "      <td>0.000000</td>\n",
              "      <td>0.000000</td>\n",
              "      <td>0.000000</td>\n",
              "    </tr>\n",
              "    <tr>\n",
              "      <th>25%</th>\n",
              "      <td>0.000000</td>\n",
              "      <td>0.000000</td>\n",
              "      <td>0.000000</td>\n",
              "      <td>0.000000</td>\n",
              "      <td>0.000000</td>\n",
              "      <td>0.000000</td>\n",
              "      <td>0.000000</td>\n",
              "      <td>0.000000</td>\n",
              "      <td>0.000000</td>\n",
              "      <td>0.000000</td>\n",
              "      <td>0.000000</td>\n",
              "      <td>0.000000</td>\n",
              "      <td>0.000000</td>\n",
              "      <td>0.000000</td>\n",
              "      <td>0.000000</td>\n",
              "      <td>0.000000</td>\n",
              "      <td>0.000000</td>\n",
              "      <td>0.000000</td>\n",
              "      <td>0.000000</td>\n",
              "      <td>0.000000</td>\n",
              "      <td>0.000000</td>\n",
              "      <td>0.000000</td>\n",
              "      <td>0.000000</td>\n",
              "      <td>0.000000</td>\n",
              "      <td>0.000000</td>\n",
              "      <td>0.000000</td>\n",
              "    </tr>\n",
              "    <tr>\n",
              "      <th>50%</th>\n",
              "      <td>0.000000</td>\n",
              "      <td>0.500000</td>\n",
              "      <td>1.000000</td>\n",
              "      <td>0.500000</td>\n",
              "      <td>0.000000</td>\n",
              "      <td>0.000000</td>\n",
              "      <td>0.000000</td>\n",
              "      <td>1.000000</td>\n",
              "      <td>1.000000</td>\n",
              "      <td>0.000000</td>\n",
              "      <td>0.000000</td>\n",
              "      <td>0.000000</td>\n",
              "      <td>0.000000</td>\n",
              "      <td>0.000000</td>\n",
              "      <td>0.000000</td>\n",
              "      <td>0.000000</td>\n",
              "      <td>0.000000</td>\n",
              "      <td>0.000000</td>\n",
              "      <td>0.000000</td>\n",
              "      <td>0.000000</td>\n",
              "      <td>0.000000</td>\n",
              "      <td>0.000000</td>\n",
              "      <td>0.000000</td>\n",
              "      <td>0.000000</td>\n",
              "      <td>0.000000</td>\n",
              "      <td>0.000000</td>\n",
              "    </tr>\n",
              "    <tr>\n",
              "      <th>75%</th>\n",
              "      <td>1.000000</td>\n",
              "      <td>1.000000</td>\n",
              "      <td>1.000000</td>\n",
              "      <td>1.000000</td>\n",
              "      <td>1.000000</td>\n",
              "      <td>0.000000</td>\n",
              "      <td>1.000000</td>\n",
              "      <td>1.000000</td>\n",
              "      <td>1.000000</td>\n",
              "      <td>1.000000</td>\n",
              "      <td>0.000000</td>\n",
              "      <td>0.000000</td>\n",
              "      <td>0.000000</td>\n",
              "      <td>0.000000</td>\n",
              "      <td>0.000000</td>\n",
              "      <td>0.000000</td>\n",
              "      <td>1.000000</td>\n",
              "      <td>1.000000</td>\n",
              "      <td>1.000000</td>\n",
              "      <td>0.250000</td>\n",
              "      <td>0.250000</td>\n",
              "      <td>0.250000</td>\n",
              "      <td>0.250000</td>\n",
              "      <td>1.000000</td>\n",
              "      <td>1.000000</td>\n",
              "      <td>1.000000</td>\n",
              "    </tr>\n",
              "    <tr>\n",
              "      <th>max</th>\n",
              "      <td>1.000000</td>\n",
              "      <td>1.000000</td>\n",
              "      <td>1.000000</td>\n",
              "      <td>1.000000</td>\n",
              "      <td>1.000000</td>\n",
              "      <td>1.000000</td>\n",
              "      <td>1.000000</td>\n",
              "      <td>1.000000</td>\n",
              "      <td>1.000000</td>\n",
              "      <td>1.000000</td>\n",
              "      <td>1.000000</td>\n",
              "      <td>1.000000</td>\n",
              "      <td>1.000000</td>\n",
              "      <td>1.000000</td>\n",
              "      <td>1.000000</td>\n",
              "      <td>1.000000</td>\n",
              "      <td>1.000000</td>\n",
              "      <td>1.000000</td>\n",
              "      <td>1.000000</td>\n",
              "      <td>1.000000</td>\n",
              "      <td>1.000000</td>\n",
              "      <td>1.000000</td>\n",
              "      <td>1.000000</td>\n",
              "      <td>1.000000</td>\n",
              "      <td>1.000000</td>\n",
              "      <td>1.000000</td>\n",
              "    </tr>\n",
              "  </tbody>\n",
              "</table>\n",
              "</div>"
            ],
            "text/plain": [
              "               Fever      Tiredness  ...     Contact_No    Contact_Yes\n",
              "count  316800.000000  316800.000000  ...  316800.000000  316800.000000\n",
              "mean        0.312500       0.500000  ...       0.333333       0.333333\n",
              "std         0.463513       0.500001  ...       0.471405       0.471405\n",
              "min         0.000000       0.000000  ...       0.000000       0.000000\n",
              "25%         0.000000       0.000000  ...       0.000000       0.000000\n",
              "50%         0.000000       0.500000  ...       0.000000       0.000000\n",
              "75%         1.000000       1.000000  ...       1.000000       1.000000\n",
              "max         1.000000       1.000000  ...       1.000000       1.000000\n",
              "\n",
              "[8 rows x 26 columns]"
            ]
          },
          "metadata": {
            "tags": []
          }
        }
      ]
    },
    {
      "cell_type": "code",
      "metadata": {
        "colab": {
          "base_uri": "https://localhost:8080/"
        },
        "id": "XKtq9ZJjy3Gd",
        "outputId": "204ba303-bdf4-4ac8-8eb7-5b7589c59612"
      },
      "source": [
        "df.info()"
      ],
      "execution_count": 5,
      "outputs": [
        {
          "output_type": "stream",
          "text": [
            "<class 'pandas.core.frame.DataFrame'>\n",
            "RangeIndex: 316800 entries, 0 to 316799\n",
            "Data columns (total 27 columns):\n",
            " #   Column                   Non-Null Count   Dtype \n",
            "---  ------                   --------------   ----- \n",
            " 0   Fever                    316800 non-null  int64 \n",
            " 1   Tiredness                316800 non-null  int64 \n",
            " 2   Dry-Cough                316800 non-null  int64 \n",
            " 3   Difficulty-in-Breathing  316800 non-null  int64 \n",
            " 4   Sore-Throat              316800 non-null  int64 \n",
            " 5   None_Sympton             316800 non-null  int64 \n",
            " 6   Pains                    316800 non-null  int64 \n",
            " 7   Nasal-Congestion         316800 non-null  int64 \n",
            " 8   Runny-Nose               316800 non-null  int64 \n",
            " 9   Diarrhea                 316800 non-null  int64 \n",
            " 10  None_Experiencing        316800 non-null  int64 \n",
            " 11  Age_0-9                  316800 non-null  int64 \n",
            " 12  Age_10-19                316800 non-null  int64 \n",
            " 13  Age_20-24                316800 non-null  int64 \n",
            " 14  Age_25-59                316800 non-null  int64 \n",
            " 15  Age_60+                  316800 non-null  int64 \n",
            " 16  Gender_Female            316800 non-null  int64 \n",
            " 17  Gender_Male              316800 non-null  int64 \n",
            " 18  Gender_Transgender       316800 non-null  int64 \n",
            " 19  Severity_Mild            316800 non-null  int64 \n",
            " 20  Severity_Moderate        316800 non-null  int64 \n",
            " 21  Severity_None            316800 non-null  int64 \n",
            " 22  Severity_Severe          316800 non-null  int64 \n",
            " 23  Contact_Dont-Know        316800 non-null  int64 \n",
            " 24  Contact_No               316800 non-null  int64 \n",
            " 25  Contact_Yes              316800 non-null  int64 \n",
            " 26  Country                  316800 non-null  object\n",
            "dtypes: int64(26), object(1)\n",
            "memory usage: 65.3+ MB\n"
          ],
          "name": "stdout"
        }
      ]
    },
    {
      "cell_type": "code",
      "metadata": {
        "colab": {
          "base_uri": "https://localhost:8080/"
        },
        "id": "TCpo3iz70OtD",
        "outputId": "8c27a874-2008-4067-b79c-5f321ec23215"
      },
      "source": [
        "df.columns"
      ],
      "execution_count": 6,
      "outputs": [
        {
          "output_type": "execute_result",
          "data": {
            "text/plain": [
              "Index(['Fever', 'Tiredness', 'Dry-Cough', 'Difficulty-in-Breathing',\n",
              "       'Sore-Throat', 'None_Sympton', 'Pains', 'Nasal-Congestion',\n",
              "       'Runny-Nose', 'Diarrhea', 'None_Experiencing', 'Age_0-9', 'Age_10-19',\n",
              "       'Age_20-24', 'Age_25-59', 'Age_60+', 'Gender_Female', 'Gender_Male',\n",
              "       'Gender_Transgender', 'Severity_Mild', 'Severity_Moderate',\n",
              "       'Severity_None', 'Severity_Severe', 'Contact_Dont-Know', 'Contact_No',\n",
              "       'Contact_Yes', 'Country'],\n",
              "      dtype='object')"
            ]
          },
          "metadata": {
            "tags": []
          },
          "execution_count": 6
        }
      ]
    },
    {
      "cell_type": "markdown",
      "metadata": {
        "id": "EEfz0Nk8_qIL"
      },
      "source": [
        "<h2>Putting all the columns related to severity in a single variable."
      ]
    },
    {
      "cell_type": "code",
      "metadata": {
        "id": "xnu8kvNy-EOa"
      },
      "source": [
        "severity_columns = df.filter(like='Severity_').columns"
      ],
      "execution_count": 7,
      "outputs": []
    },
    {
      "cell_type": "code",
      "metadata": {
        "colab": {
          "base_uri": "https://localhost:8080/"
        },
        "id": "SeI6it6k-HD9",
        "outputId": "1822990f-3c6d-4faf-e2ca-5e461b99cd79"
      },
      "source": [
        "severity_columns"
      ],
      "execution_count": 8,
      "outputs": [
        {
          "output_type": "execute_result",
          "data": {
            "text/plain": [
              "Index(['Severity_Mild', 'Severity_Moderate', 'Severity_None',\n",
              "       'Severity_Severe'],\n",
              "      dtype='object')"
            ]
          },
          "metadata": {
            "tags": []
          },
          "execution_count": 8
        }
      ]
    },
    {
      "cell_type": "markdown",
      "metadata": {
        "id": "Zr5la70An-3A"
      },
      "source": [
        "<h2>Getting rid of unnecessary columns "
      ]
    },
    {
      "cell_type": "markdown",
      "metadata": {
        "id": "gQynPkTPxe91"
      },
      "source": [
        "We want to keep our dataset as simple as possible. Also,we want to take as less inputs as possible from the users. That’s why we are removing the columns we don’t want to use for the sake of simplicity(In deplyment, we have also removed the Age, Gender, Contact_Don't_know and Contact_No columns too)."
      ]
    },
    {
      "cell_type": "code",
      "metadata": {
        "colab": {
          "base_uri": "https://localhost:8080/",
          "height": 89
        },
        "id": "v7ctgn1PD1zA",
        "outputId": "41c94812-2a4c-4a5f-ce2d-bcb73708183d"
      },
      "source": [
        "df.drop(\"Country\",axis=1,inplace=True)\n",
        "df.drop(\"None_Sympton\",axis=1,inplace=True)\n",
        "df.drop(\"None_Experiencing\",axis=1,inplace=True)\n",
        "df.drop(severity_columns,axis=1,inplace=True)\n",
        "#Only in deployment\n",
        "'''df.drop(\"Age_0-9\",axis=1,inplace=True)\n",
        "df.drop(\"Age_10-19\",axis=1,inplace=True)\n",
        "df.drop(\"Age_20-24\",axis=1,inplace=True)\n",
        "df.drop(\"Age_25-59\",axis=1,inplace=True)\n",
        "df.drop(\"Age_60+\",axis=1,inplace=True)\n",
        "df.drop(\"Gender_Female\",axis=1,inplace=True)\n",
        "df.drop(\"Gender_Transgender\",axis=1,inplace=True)\n",
        "df.drop(\"Contact_Dont-Know\",axis=1,inplace=True)\n",
        "df.drop(\"Contact_No\",axis=1,inplace=True)'''"
      ],
      "execution_count": 9,
      "outputs": [
        {
          "output_type": "execute_result",
          "data": {
            "application/vnd.google.colaboratory.intrinsic+json": {
              "type": "string"
            },
            "text/plain": [
              "'df.drop(\"Age_0-9\",axis=1,inplace=True)\\ndf.drop(\"Age_10-19\",axis=1,inplace=True)\\ndf.drop(\"Age_20-24\",axis=1,inplace=True)\\ndf.drop(\"Age_25-59\",axis=1,inplace=True)\\ndf.drop(\"Age_60+\",axis=1,inplace=True)\\ndf.drop(\"Gender_Female\",axis=1,inplace=True)\\ndf.drop(\"Gender_Transgender\",axis=1,inplace=True)\\ndf.drop(\"Contact_Dont-Know\",axis=1,inplace=True)\\ndf.drop(\"Contact_No\",axis=1,inplace=True)'"
            ]
          },
          "metadata": {
            "tags": []
          },
          "execution_count": 9
        }
      ]
    },
    {
      "cell_type": "code",
      "metadata": {
        "colab": {
          "base_uri": "https://localhost:8080/",
          "height": 473
        },
        "id": "LAs5P2mNUPll",
        "outputId": "b283ae1f-9303-402a-a719-e0eb2c551874"
      },
      "source": [
        "df"
      ],
      "execution_count": 10,
      "outputs": [
        {
          "output_type": "execute_result",
          "data": {
            "text/html": [
              "<div>\n",
              "<style scoped>\n",
              "    .dataframe tbody tr th:only-of-type {\n",
              "        vertical-align: middle;\n",
              "    }\n",
              "\n",
              "    .dataframe tbody tr th {\n",
              "        vertical-align: top;\n",
              "    }\n",
              "\n",
              "    .dataframe thead th {\n",
              "        text-align: right;\n",
              "    }\n",
              "</style>\n",
              "<table border=\"1\" class=\"dataframe\">\n",
              "  <thead>\n",
              "    <tr style=\"text-align: right;\">\n",
              "      <th></th>\n",
              "      <th>Fever</th>\n",
              "      <th>Tiredness</th>\n",
              "      <th>Dry-Cough</th>\n",
              "      <th>Difficulty-in-Breathing</th>\n",
              "      <th>Sore-Throat</th>\n",
              "      <th>Pains</th>\n",
              "      <th>Nasal-Congestion</th>\n",
              "      <th>Runny-Nose</th>\n",
              "      <th>Diarrhea</th>\n",
              "      <th>Age_0-9</th>\n",
              "      <th>Age_10-19</th>\n",
              "      <th>Age_20-24</th>\n",
              "      <th>Age_25-59</th>\n",
              "      <th>Age_60+</th>\n",
              "      <th>Gender_Female</th>\n",
              "      <th>Gender_Male</th>\n",
              "      <th>Gender_Transgender</th>\n",
              "      <th>Contact_Dont-Know</th>\n",
              "      <th>Contact_No</th>\n",
              "      <th>Contact_Yes</th>\n",
              "    </tr>\n",
              "  </thead>\n",
              "  <tbody>\n",
              "    <tr>\n",
              "      <th>0</th>\n",
              "      <td>1</td>\n",
              "      <td>1</td>\n",
              "      <td>1</td>\n",
              "      <td>1</td>\n",
              "      <td>1</td>\n",
              "      <td>1</td>\n",
              "      <td>1</td>\n",
              "      <td>1</td>\n",
              "      <td>1</td>\n",
              "      <td>1</td>\n",
              "      <td>0</td>\n",
              "      <td>0</td>\n",
              "      <td>0</td>\n",
              "      <td>0</td>\n",
              "      <td>0</td>\n",
              "      <td>1</td>\n",
              "      <td>0</td>\n",
              "      <td>0</td>\n",
              "      <td>0</td>\n",
              "      <td>1</td>\n",
              "    </tr>\n",
              "    <tr>\n",
              "      <th>1</th>\n",
              "      <td>1</td>\n",
              "      <td>1</td>\n",
              "      <td>1</td>\n",
              "      <td>1</td>\n",
              "      <td>1</td>\n",
              "      <td>1</td>\n",
              "      <td>1</td>\n",
              "      <td>1</td>\n",
              "      <td>1</td>\n",
              "      <td>1</td>\n",
              "      <td>0</td>\n",
              "      <td>0</td>\n",
              "      <td>0</td>\n",
              "      <td>0</td>\n",
              "      <td>0</td>\n",
              "      <td>1</td>\n",
              "      <td>0</td>\n",
              "      <td>0</td>\n",
              "      <td>1</td>\n",
              "      <td>0</td>\n",
              "    </tr>\n",
              "    <tr>\n",
              "      <th>2</th>\n",
              "      <td>1</td>\n",
              "      <td>1</td>\n",
              "      <td>1</td>\n",
              "      <td>1</td>\n",
              "      <td>1</td>\n",
              "      <td>1</td>\n",
              "      <td>1</td>\n",
              "      <td>1</td>\n",
              "      <td>1</td>\n",
              "      <td>1</td>\n",
              "      <td>0</td>\n",
              "      <td>0</td>\n",
              "      <td>0</td>\n",
              "      <td>0</td>\n",
              "      <td>0</td>\n",
              "      <td>1</td>\n",
              "      <td>0</td>\n",
              "      <td>1</td>\n",
              "      <td>0</td>\n",
              "      <td>0</td>\n",
              "    </tr>\n",
              "    <tr>\n",
              "      <th>3</th>\n",
              "      <td>1</td>\n",
              "      <td>1</td>\n",
              "      <td>1</td>\n",
              "      <td>1</td>\n",
              "      <td>1</td>\n",
              "      <td>1</td>\n",
              "      <td>1</td>\n",
              "      <td>1</td>\n",
              "      <td>1</td>\n",
              "      <td>1</td>\n",
              "      <td>0</td>\n",
              "      <td>0</td>\n",
              "      <td>0</td>\n",
              "      <td>0</td>\n",
              "      <td>0</td>\n",
              "      <td>1</td>\n",
              "      <td>0</td>\n",
              "      <td>0</td>\n",
              "      <td>0</td>\n",
              "      <td>1</td>\n",
              "    </tr>\n",
              "    <tr>\n",
              "      <th>4</th>\n",
              "      <td>1</td>\n",
              "      <td>1</td>\n",
              "      <td>1</td>\n",
              "      <td>1</td>\n",
              "      <td>1</td>\n",
              "      <td>1</td>\n",
              "      <td>1</td>\n",
              "      <td>1</td>\n",
              "      <td>1</td>\n",
              "      <td>1</td>\n",
              "      <td>0</td>\n",
              "      <td>0</td>\n",
              "      <td>0</td>\n",
              "      <td>0</td>\n",
              "      <td>0</td>\n",
              "      <td>1</td>\n",
              "      <td>0</td>\n",
              "      <td>0</td>\n",
              "      <td>1</td>\n",
              "      <td>0</td>\n",
              "    </tr>\n",
              "    <tr>\n",
              "      <th>...</th>\n",
              "      <td>...</td>\n",
              "      <td>...</td>\n",
              "      <td>...</td>\n",
              "      <td>...</td>\n",
              "      <td>...</td>\n",
              "      <td>...</td>\n",
              "      <td>...</td>\n",
              "      <td>...</td>\n",
              "      <td>...</td>\n",
              "      <td>...</td>\n",
              "      <td>...</td>\n",
              "      <td>...</td>\n",
              "      <td>...</td>\n",
              "      <td>...</td>\n",
              "      <td>...</td>\n",
              "      <td>...</td>\n",
              "      <td>...</td>\n",
              "      <td>...</td>\n",
              "      <td>...</td>\n",
              "      <td>...</td>\n",
              "    </tr>\n",
              "    <tr>\n",
              "      <th>316795</th>\n",
              "      <td>0</td>\n",
              "      <td>0</td>\n",
              "      <td>0</td>\n",
              "      <td>0</td>\n",
              "      <td>0</td>\n",
              "      <td>0</td>\n",
              "      <td>0</td>\n",
              "      <td>0</td>\n",
              "      <td>0</td>\n",
              "      <td>0</td>\n",
              "      <td>0</td>\n",
              "      <td>0</td>\n",
              "      <td>0</td>\n",
              "      <td>1</td>\n",
              "      <td>0</td>\n",
              "      <td>0</td>\n",
              "      <td>1</td>\n",
              "      <td>0</td>\n",
              "      <td>1</td>\n",
              "      <td>0</td>\n",
              "    </tr>\n",
              "    <tr>\n",
              "      <th>316796</th>\n",
              "      <td>0</td>\n",
              "      <td>0</td>\n",
              "      <td>0</td>\n",
              "      <td>0</td>\n",
              "      <td>0</td>\n",
              "      <td>0</td>\n",
              "      <td>0</td>\n",
              "      <td>0</td>\n",
              "      <td>0</td>\n",
              "      <td>0</td>\n",
              "      <td>0</td>\n",
              "      <td>0</td>\n",
              "      <td>0</td>\n",
              "      <td>1</td>\n",
              "      <td>0</td>\n",
              "      <td>0</td>\n",
              "      <td>1</td>\n",
              "      <td>1</td>\n",
              "      <td>0</td>\n",
              "      <td>0</td>\n",
              "    </tr>\n",
              "    <tr>\n",
              "      <th>316797</th>\n",
              "      <td>0</td>\n",
              "      <td>0</td>\n",
              "      <td>0</td>\n",
              "      <td>0</td>\n",
              "      <td>0</td>\n",
              "      <td>0</td>\n",
              "      <td>0</td>\n",
              "      <td>0</td>\n",
              "      <td>0</td>\n",
              "      <td>0</td>\n",
              "      <td>0</td>\n",
              "      <td>0</td>\n",
              "      <td>0</td>\n",
              "      <td>1</td>\n",
              "      <td>0</td>\n",
              "      <td>0</td>\n",
              "      <td>1</td>\n",
              "      <td>0</td>\n",
              "      <td>0</td>\n",
              "      <td>1</td>\n",
              "    </tr>\n",
              "    <tr>\n",
              "      <th>316798</th>\n",
              "      <td>0</td>\n",
              "      <td>0</td>\n",
              "      <td>0</td>\n",
              "      <td>0</td>\n",
              "      <td>0</td>\n",
              "      <td>0</td>\n",
              "      <td>0</td>\n",
              "      <td>0</td>\n",
              "      <td>0</td>\n",
              "      <td>0</td>\n",
              "      <td>0</td>\n",
              "      <td>0</td>\n",
              "      <td>0</td>\n",
              "      <td>1</td>\n",
              "      <td>0</td>\n",
              "      <td>0</td>\n",
              "      <td>1</td>\n",
              "      <td>0</td>\n",
              "      <td>1</td>\n",
              "      <td>0</td>\n",
              "    </tr>\n",
              "    <tr>\n",
              "      <th>316799</th>\n",
              "      <td>0</td>\n",
              "      <td>0</td>\n",
              "      <td>0</td>\n",
              "      <td>0</td>\n",
              "      <td>0</td>\n",
              "      <td>0</td>\n",
              "      <td>0</td>\n",
              "      <td>0</td>\n",
              "      <td>0</td>\n",
              "      <td>0</td>\n",
              "      <td>0</td>\n",
              "      <td>0</td>\n",
              "      <td>0</td>\n",
              "      <td>1</td>\n",
              "      <td>0</td>\n",
              "      <td>0</td>\n",
              "      <td>1</td>\n",
              "      <td>1</td>\n",
              "      <td>0</td>\n",
              "      <td>0</td>\n",
              "    </tr>\n",
              "  </tbody>\n",
              "</table>\n",
              "<p>316800 rows × 20 columns</p>\n",
              "</div>"
            ],
            "text/plain": [
              "        Fever  Tiredness  Dry-Cough  ...  Contact_Dont-Know  Contact_No  Contact_Yes\n",
              "0           1          1          1  ...                  0           0            1\n",
              "1           1          1          1  ...                  0           1            0\n",
              "2           1          1          1  ...                  1           0            0\n",
              "3           1          1          1  ...                  0           0            1\n",
              "4           1          1          1  ...                  0           1            0\n",
              "...       ...        ...        ...  ...                ...         ...          ...\n",
              "316795      0          0          0  ...                  0           1            0\n",
              "316796      0          0          0  ...                  1           0            0\n",
              "316797      0          0          0  ...                  0           0            1\n",
              "316798      0          0          0  ...                  0           1            0\n",
              "316799      0          0          0  ...                  1           0            0\n",
              "\n",
              "[316800 rows x 20 columns]"
            ]
          },
          "metadata": {
            "tags": []
          },
          "execution_count": 10
        }
      ]
    },
    {
      "cell_type": "markdown",
      "metadata": {
        "id": "pB0ohnQcoLo5"
      },
      "source": [
        "<h2> Creating Target Variable"
      ]
    },
    {
      "cell_type": "markdown",
      "metadata": {
        "id": "x3R1uY6NxmXJ"
      },
      "source": [
        "As we can see, there is no attribute in this dataset which tells us whether a person is Covid positive or not. So, we are adding a new column called 'Symptoms_Score'. It will be our target variable. We will predict the 'Symptoms_Score's of the users from the data provided by themselves."
      ]
    },
    {
      "cell_type": "code",
      "metadata": {
        "id": "2c6Aq7w3EaZi"
      },
      "source": [
        "df['Symptoms_Score'] = df.iloc[:,:9].sum(axis=1) + df.iloc[:,19:20].sum(axis=1)#for deployment 10:11"
      ],
      "execution_count": 11,
      "outputs": []
    },
    {
      "cell_type": "code",
      "metadata": {
        "colab": {
          "base_uri": "https://localhost:8080/",
          "height": 473
        },
        "id": "2imh8IIdHv8c",
        "outputId": "0929d24e-46f0-4090-da2b-e78a656859b9"
      },
      "source": [
        "df"
      ],
      "execution_count": 12,
      "outputs": [
        {
          "output_type": "execute_result",
          "data": {
            "text/html": [
              "<div>\n",
              "<style scoped>\n",
              "    .dataframe tbody tr th:only-of-type {\n",
              "        vertical-align: middle;\n",
              "    }\n",
              "\n",
              "    .dataframe tbody tr th {\n",
              "        vertical-align: top;\n",
              "    }\n",
              "\n",
              "    .dataframe thead th {\n",
              "        text-align: right;\n",
              "    }\n",
              "</style>\n",
              "<table border=\"1\" class=\"dataframe\">\n",
              "  <thead>\n",
              "    <tr style=\"text-align: right;\">\n",
              "      <th></th>\n",
              "      <th>Fever</th>\n",
              "      <th>Tiredness</th>\n",
              "      <th>Dry-Cough</th>\n",
              "      <th>Difficulty-in-Breathing</th>\n",
              "      <th>Sore-Throat</th>\n",
              "      <th>Pains</th>\n",
              "      <th>Nasal-Congestion</th>\n",
              "      <th>Runny-Nose</th>\n",
              "      <th>Diarrhea</th>\n",
              "      <th>Age_0-9</th>\n",
              "      <th>Age_10-19</th>\n",
              "      <th>Age_20-24</th>\n",
              "      <th>Age_25-59</th>\n",
              "      <th>Age_60+</th>\n",
              "      <th>Gender_Female</th>\n",
              "      <th>Gender_Male</th>\n",
              "      <th>Gender_Transgender</th>\n",
              "      <th>Contact_Dont-Know</th>\n",
              "      <th>Contact_No</th>\n",
              "      <th>Contact_Yes</th>\n",
              "      <th>Symptoms_Score</th>\n",
              "    </tr>\n",
              "  </thead>\n",
              "  <tbody>\n",
              "    <tr>\n",
              "      <th>0</th>\n",
              "      <td>1</td>\n",
              "      <td>1</td>\n",
              "      <td>1</td>\n",
              "      <td>1</td>\n",
              "      <td>1</td>\n",
              "      <td>1</td>\n",
              "      <td>1</td>\n",
              "      <td>1</td>\n",
              "      <td>1</td>\n",
              "      <td>1</td>\n",
              "      <td>0</td>\n",
              "      <td>0</td>\n",
              "      <td>0</td>\n",
              "      <td>0</td>\n",
              "      <td>0</td>\n",
              "      <td>1</td>\n",
              "      <td>0</td>\n",
              "      <td>0</td>\n",
              "      <td>0</td>\n",
              "      <td>1</td>\n",
              "      <td>10</td>\n",
              "    </tr>\n",
              "    <tr>\n",
              "      <th>1</th>\n",
              "      <td>1</td>\n",
              "      <td>1</td>\n",
              "      <td>1</td>\n",
              "      <td>1</td>\n",
              "      <td>1</td>\n",
              "      <td>1</td>\n",
              "      <td>1</td>\n",
              "      <td>1</td>\n",
              "      <td>1</td>\n",
              "      <td>1</td>\n",
              "      <td>0</td>\n",
              "      <td>0</td>\n",
              "      <td>0</td>\n",
              "      <td>0</td>\n",
              "      <td>0</td>\n",
              "      <td>1</td>\n",
              "      <td>0</td>\n",
              "      <td>0</td>\n",
              "      <td>1</td>\n",
              "      <td>0</td>\n",
              "      <td>9</td>\n",
              "    </tr>\n",
              "    <tr>\n",
              "      <th>2</th>\n",
              "      <td>1</td>\n",
              "      <td>1</td>\n",
              "      <td>1</td>\n",
              "      <td>1</td>\n",
              "      <td>1</td>\n",
              "      <td>1</td>\n",
              "      <td>1</td>\n",
              "      <td>1</td>\n",
              "      <td>1</td>\n",
              "      <td>1</td>\n",
              "      <td>0</td>\n",
              "      <td>0</td>\n",
              "      <td>0</td>\n",
              "      <td>0</td>\n",
              "      <td>0</td>\n",
              "      <td>1</td>\n",
              "      <td>0</td>\n",
              "      <td>1</td>\n",
              "      <td>0</td>\n",
              "      <td>0</td>\n",
              "      <td>9</td>\n",
              "    </tr>\n",
              "    <tr>\n",
              "      <th>3</th>\n",
              "      <td>1</td>\n",
              "      <td>1</td>\n",
              "      <td>1</td>\n",
              "      <td>1</td>\n",
              "      <td>1</td>\n",
              "      <td>1</td>\n",
              "      <td>1</td>\n",
              "      <td>1</td>\n",
              "      <td>1</td>\n",
              "      <td>1</td>\n",
              "      <td>0</td>\n",
              "      <td>0</td>\n",
              "      <td>0</td>\n",
              "      <td>0</td>\n",
              "      <td>0</td>\n",
              "      <td>1</td>\n",
              "      <td>0</td>\n",
              "      <td>0</td>\n",
              "      <td>0</td>\n",
              "      <td>1</td>\n",
              "      <td>10</td>\n",
              "    </tr>\n",
              "    <tr>\n",
              "      <th>4</th>\n",
              "      <td>1</td>\n",
              "      <td>1</td>\n",
              "      <td>1</td>\n",
              "      <td>1</td>\n",
              "      <td>1</td>\n",
              "      <td>1</td>\n",
              "      <td>1</td>\n",
              "      <td>1</td>\n",
              "      <td>1</td>\n",
              "      <td>1</td>\n",
              "      <td>0</td>\n",
              "      <td>0</td>\n",
              "      <td>0</td>\n",
              "      <td>0</td>\n",
              "      <td>0</td>\n",
              "      <td>1</td>\n",
              "      <td>0</td>\n",
              "      <td>0</td>\n",
              "      <td>1</td>\n",
              "      <td>0</td>\n",
              "      <td>9</td>\n",
              "    </tr>\n",
              "    <tr>\n",
              "      <th>...</th>\n",
              "      <td>...</td>\n",
              "      <td>...</td>\n",
              "      <td>...</td>\n",
              "      <td>...</td>\n",
              "      <td>...</td>\n",
              "      <td>...</td>\n",
              "      <td>...</td>\n",
              "      <td>...</td>\n",
              "      <td>...</td>\n",
              "      <td>...</td>\n",
              "      <td>...</td>\n",
              "      <td>...</td>\n",
              "      <td>...</td>\n",
              "      <td>...</td>\n",
              "      <td>...</td>\n",
              "      <td>...</td>\n",
              "      <td>...</td>\n",
              "      <td>...</td>\n",
              "      <td>...</td>\n",
              "      <td>...</td>\n",
              "      <td>...</td>\n",
              "    </tr>\n",
              "    <tr>\n",
              "      <th>316795</th>\n",
              "      <td>0</td>\n",
              "      <td>0</td>\n",
              "      <td>0</td>\n",
              "      <td>0</td>\n",
              "      <td>0</td>\n",
              "      <td>0</td>\n",
              "      <td>0</td>\n",
              "      <td>0</td>\n",
              "      <td>0</td>\n",
              "      <td>0</td>\n",
              "      <td>0</td>\n",
              "      <td>0</td>\n",
              "      <td>0</td>\n",
              "      <td>1</td>\n",
              "      <td>0</td>\n",
              "      <td>0</td>\n",
              "      <td>1</td>\n",
              "      <td>0</td>\n",
              "      <td>1</td>\n",
              "      <td>0</td>\n",
              "      <td>0</td>\n",
              "    </tr>\n",
              "    <tr>\n",
              "      <th>316796</th>\n",
              "      <td>0</td>\n",
              "      <td>0</td>\n",
              "      <td>0</td>\n",
              "      <td>0</td>\n",
              "      <td>0</td>\n",
              "      <td>0</td>\n",
              "      <td>0</td>\n",
              "      <td>0</td>\n",
              "      <td>0</td>\n",
              "      <td>0</td>\n",
              "      <td>0</td>\n",
              "      <td>0</td>\n",
              "      <td>0</td>\n",
              "      <td>1</td>\n",
              "      <td>0</td>\n",
              "      <td>0</td>\n",
              "      <td>1</td>\n",
              "      <td>1</td>\n",
              "      <td>0</td>\n",
              "      <td>0</td>\n",
              "      <td>0</td>\n",
              "    </tr>\n",
              "    <tr>\n",
              "      <th>316797</th>\n",
              "      <td>0</td>\n",
              "      <td>0</td>\n",
              "      <td>0</td>\n",
              "      <td>0</td>\n",
              "      <td>0</td>\n",
              "      <td>0</td>\n",
              "      <td>0</td>\n",
              "      <td>0</td>\n",
              "      <td>0</td>\n",
              "      <td>0</td>\n",
              "      <td>0</td>\n",
              "      <td>0</td>\n",
              "      <td>0</td>\n",
              "      <td>1</td>\n",
              "      <td>0</td>\n",
              "      <td>0</td>\n",
              "      <td>1</td>\n",
              "      <td>0</td>\n",
              "      <td>0</td>\n",
              "      <td>1</td>\n",
              "      <td>1</td>\n",
              "    </tr>\n",
              "    <tr>\n",
              "      <th>316798</th>\n",
              "      <td>0</td>\n",
              "      <td>0</td>\n",
              "      <td>0</td>\n",
              "      <td>0</td>\n",
              "      <td>0</td>\n",
              "      <td>0</td>\n",
              "      <td>0</td>\n",
              "      <td>0</td>\n",
              "      <td>0</td>\n",
              "      <td>0</td>\n",
              "      <td>0</td>\n",
              "      <td>0</td>\n",
              "      <td>0</td>\n",
              "      <td>1</td>\n",
              "      <td>0</td>\n",
              "      <td>0</td>\n",
              "      <td>1</td>\n",
              "      <td>0</td>\n",
              "      <td>1</td>\n",
              "      <td>0</td>\n",
              "      <td>0</td>\n",
              "    </tr>\n",
              "    <tr>\n",
              "      <th>316799</th>\n",
              "      <td>0</td>\n",
              "      <td>0</td>\n",
              "      <td>0</td>\n",
              "      <td>0</td>\n",
              "      <td>0</td>\n",
              "      <td>0</td>\n",
              "      <td>0</td>\n",
              "      <td>0</td>\n",
              "      <td>0</td>\n",
              "      <td>0</td>\n",
              "      <td>0</td>\n",
              "      <td>0</td>\n",
              "      <td>0</td>\n",
              "      <td>1</td>\n",
              "      <td>0</td>\n",
              "      <td>0</td>\n",
              "      <td>1</td>\n",
              "      <td>1</td>\n",
              "      <td>0</td>\n",
              "      <td>0</td>\n",
              "      <td>0</td>\n",
              "    </tr>\n",
              "  </tbody>\n",
              "</table>\n",
              "<p>316800 rows × 21 columns</p>\n",
              "</div>"
            ],
            "text/plain": [
              "        Fever  Tiredness  Dry-Cough  ...  Contact_No  Contact_Yes  Symptoms_Score\n",
              "0           1          1          1  ...           0            1              10\n",
              "1           1          1          1  ...           1            0               9\n",
              "2           1          1          1  ...           0            0               9\n",
              "3           1          1          1  ...           0            1              10\n",
              "4           1          1          1  ...           1            0               9\n",
              "...       ...        ...        ...  ...         ...          ...             ...\n",
              "316795      0          0          0  ...           1            0               0\n",
              "316796      0          0          0  ...           0            0               0\n",
              "316797      0          0          0  ...           0            1               1\n",
              "316798      0          0          0  ...           1            0               0\n",
              "316799      0          0          0  ...           0            0               0\n",
              "\n",
              "[316800 rows x 21 columns]"
            ]
          },
          "metadata": {
            "tags": []
          },
          "execution_count": 12
        }
      ]
    },
    {
      "cell_type": "markdown",
      "metadata": {
        "id": "FHugNlgTyAPQ"
      },
      "source": [
        "This is the final dataset we want to use and apply our models to."
      ]
    },
    {
      "cell_type": "code",
      "metadata": {
        "colab": {
          "base_uri": "https://localhost:8080/",
          "height": 351
        },
        "id": "NQ3norwFEnUO",
        "outputId": "3f68b2b4-bdc2-4c03-89d9-c948f7df32a3"
      },
      "source": [
        "display(df.describe())"
      ],
      "execution_count": 13,
      "outputs": [
        {
          "output_type": "display_data",
          "data": {
            "text/html": [
              "<div>\n",
              "<style scoped>\n",
              "    .dataframe tbody tr th:only-of-type {\n",
              "        vertical-align: middle;\n",
              "    }\n",
              "\n",
              "    .dataframe tbody tr th {\n",
              "        vertical-align: top;\n",
              "    }\n",
              "\n",
              "    .dataframe thead th {\n",
              "        text-align: right;\n",
              "    }\n",
              "</style>\n",
              "<table border=\"1\" class=\"dataframe\">\n",
              "  <thead>\n",
              "    <tr style=\"text-align: right;\">\n",
              "      <th></th>\n",
              "      <th>Fever</th>\n",
              "      <th>Tiredness</th>\n",
              "      <th>Dry-Cough</th>\n",
              "      <th>Difficulty-in-Breathing</th>\n",
              "      <th>Sore-Throat</th>\n",
              "      <th>Pains</th>\n",
              "      <th>Nasal-Congestion</th>\n",
              "      <th>Runny-Nose</th>\n",
              "      <th>Diarrhea</th>\n",
              "      <th>Age_0-9</th>\n",
              "      <th>Age_10-19</th>\n",
              "      <th>Age_20-24</th>\n",
              "      <th>Age_25-59</th>\n",
              "      <th>Age_60+</th>\n",
              "      <th>Gender_Female</th>\n",
              "      <th>Gender_Male</th>\n",
              "      <th>Gender_Transgender</th>\n",
              "      <th>Contact_Dont-Know</th>\n",
              "      <th>Contact_No</th>\n",
              "      <th>Contact_Yes</th>\n",
              "      <th>Symptoms_Score</th>\n",
              "    </tr>\n",
              "  </thead>\n",
              "  <tbody>\n",
              "    <tr>\n",
              "      <th>count</th>\n",
              "      <td>316800.000000</td>\n",
              "      <td>316800.000000</td>\n",
              "      <td>316800.000000</td>\n",
              "      <td>316800.000000</td>\n",
              "      <td>316800.000000</td>\n",
              "      <td>316800.000000</td>\n",
              "      <td>316800.000000</td>\n",
              "      <td>316800.000000</td>\n",
              "      <td>316800.000000</td>\n",
              "      <td>316800.000000</td>\n",
              "      <td>316800.000000</td>\n",
              "      <td>316800.000000</td>\n",
              "      <td>316800.000000</td>\n",
              "      <td>316800.000000</td>\n",
              "      <td>316800.000000</td>\n",
              "      <td>316800.000000</td>\n",
              "      <td>316800.000000</td>\n",
              "      <td>316800.000000</td>\n",
              "      <td>316800.000000</td>\n",
              "      <td>316800.000000</td>\n",
              "      <td>316800.000000</td>\n",
              "    </tr>\n",
              "    <tr>\n",
              "      <th>mean</th>\n",
              "      <td>0.312500</td>\n",
              "      <td>0.500000</td>\n",
              "      <td>0.562500</td>\n",
              "      <td>0.500000</td>\n",
              "      <td>0.312500</td>\n",
              "      <td>0.363636</td>\n",
              "      <td>0.545455</td>\n",
              "      <td>0.545455</td>\n",
              "      <td>0.363636</td>\n",
              "      <td>0.200000</td>\n",
              "      <td>0.200000</td>\n",
              "      <td>0.200000</td>\n",
              "      <td>0.200000</td>\n",
              "      <td>0.200000</td>\n",
              "      <td>0.333333</td>\n",
              "      <td>0.333333</td>\n",
              "      <td>0.333333</td>\n",
              "      <td>0.333333</td>\n",
              "      <td>0.333333</td>\n",
              "      <td>0.333333</td>\n",
              "      <td>4.339015</td>\n",
              "    </tr>\n",
              "    <tr>\n",
              "      <th>std</th>\n",
              "      <td>0.463513</td>\n",
              "      <td>0.500001</td>\n",
              "      <td>0.496079</td>\n",
              "      <td>0.500001</td>\n",
              "      <td>0.463513</td>\n",
              "      <td>0.481046</td>\n",
              "      <td>0.497930</td>\n",
              "      <td>0.497930</td>\n",
              "      <td>0.481046</td>\n",
              "      <td>0.400001</td>\n",
              "      <td>0.400001</td>\n",
              "      <td>0.400001</td>\n",
              "      <td>0.400001</td>\n",
              "      <td>0.400001</td>\n",
              "      <td>0.471405</td>\n",
              "      <td>0.471405</td>\n",
              "      <td>0.471405</td>\n",
              "      <td>0.471405</td>\n",
              "      <td>0.471405</td>\n",
              "      <td>0.471405</td>\n",
              "      <td>1.799790</td>\n",
              "    </tr>\n",
              "    <tr>\n",
              "      <th>min</th>\n",
              "      <td>0.000000</td>\n",
              "      <td>0.000000</td>\n",
              "      <td>0.000000</td>\n",
              "      <td>0.000000</td>\n",
              "      <td>0.000000</td>\n",
              "      <td>0.000000</td>\n",
              "      <td>0.000000</td>\n",
              "      <td>0.000000</td>\n",
              "      <td>0.000000</td>\n",
              "      <td>0.000000</td>\n",
              "      <td>0.000000</td>\n",
              "      <td>0.000000</td>\n",
              "      <td>0.000000</td>\n",
              "      <td>0.000000</td>\n",
              "      <td>0.000000</td>\n",
              "      <td>0.000000</td>\n",
              "      <td>0.000000</td>\n",
              "      <td>0.000000</td>\n",
              "      <td>0.000000</td>\n",
              "      <td>0.000000</td>\n",
              "      <td>0.000000</td>\n",
              "    </tr>\n",
              "    <tr>\n",
              "      <th>25%</th>\n",
              "      <td>0.000000</td>\n",
              "      <td>0.000000</td>\n",
              "      <td>0.000000</td>\n",
              "      <td>0.000000</td>\n",
              "      <td>0.000000</td>\n",
              "      <td>0.000000</td>\n",
              "      <td>0.000000</td>\n",
              "      <td>0.000000</td>\n",
              "      <td>0.000000</td>\n",
              "      <td>0.000000</td>\n",
              "      <td>0.000000</td>\n",
              "      <td>0.000000</td>\n",
              "      <td>0.000000</td>\n",
              "      <td>0.000000</td>\n",
              "      <td>0.000000</td>\n",
              "      <td>0.000000</td>\n",
              "      <td>0.000000</td>\n",
              "      <td>0.000000</td>\n",
              "      <td>0.000000</td>\n",
              "      <td>0.000000</td>\n",
              "      <td>3.000000</td>\n",
              "    </tr>\n",
              "    <tr>\n",
              "      <th>50%</th>\n",
              "      <td>0.000000</td>\n",
              "      <td>0.500000</td>\n",
              "      <td>1.000000</td>\n",
              "      <td>0.500000</td>\n",
              "      <td>0.000000</td>\n",
              "      <td>0.000000</td>\n",
              "      <td>1.000000</td>\n",
              "      <td>1.000000</td>\n",
              "      <td>0.000000</td>\n",
              "      <td>0.000000</td>\n",
              "      <td>0.000000</td>\n",
              "      <td>0.000000</td>\n",
              "      <td>0.000000</td>\n",
              "      <td>0.000000</td>\n",
              "      <td>0.000000</td>\n",
              "      <td>0.000000</td>\n",
              "      <td>0.000000</td>\n",
              "      <td>0.000000</td>\n",
              "      <td>0.000000</td>\n",
              "      <td>0.000000</td>\n",
              "      <td>4.000000</td>\n",
              "    </tr>\n",
              "    <tr>\n",
              "      <th>75%</th>\n",
              "      <td>1.000000</td>\n",
              "      <td>1.000000</td>\n",
              "      <td>1.000000</td>\n",
              "      <td>1.000000</td>\n",
              "      <td>1.000000</td>\n",
              "      <td>1.000000</td>\n",
              "      <td>1.000000</td>\n",
              "      <td>1.000000</td>\n",
              "      <td>1.000000</td>\n",
              "      <td>0.000000</td>\n",
              "      <td>0.000000</td>\n",
              "      <td>0.000000</td>\n",
              "      <td>0.000000</td>\n",
              "      <td>0.000000</td>\n",
              "      <td>1.000000</td>\n",
              "      <td>1.000000</td>\n",
              "      <td>1.000000</td>\n",
              "      <td>1.000000</td>\n",
              "      <td>1.000000</td>\n",
              "      <td>1.000000</td>\n",
              "      <td>6.000000</td>\n",
              "    </tr>\n",
              "    <tr>\n",
              "      <th>max</th>\n",
              "      <td>1.000000</td>\n",
              "      <td>1.000000</td>\n",
              "      <td>1.000000</td>\n",
              "      <td>1.000000</td>\n",
              "      <td>1.000000</td>\n",
              "      <td>1.000000</td>\n",
              "      <td>1.000000</td>\n",
              "      <td>1.000000</td>\n",
              "      <td>1.000000</td>\n",
              "      <td>1.000000</td>\n",
              "      <td>1.000000</td>\n",
              "      <td>1.000000</td>\n",
              "      <td>1.000000</td>\n",
              "      <td>1.000000</td>\n",
              "      <td>1.000000</td>\n",
              "      <td>1.000000</td>\n",
              "      <td>1.000000</td>\n",
              "      <td>1.000000</td>\n",
              "      <td>1.000000</td>\n",
              "      <td>1.000000</td>\n",
              "      <td>10.000000</td>\n",
              "    </tr>\n",
              "  </tbody>\n",
              "</table>\n",
              "</div>"
            ],
            "text/plain": [
              "               Fever      Tiredness  ...    Contact_Yes  Symptoms_Score\n",
              "count  316800.000000  316800.000000  ...  316800.000000   316800.000000\n",
              "mean        0.312500       0.500000  ...       0.333333        4.339015\n",
              "std         0.463513       0.500001  ...       0.471405        1.799790\n",
              "min         0.000000       0.000000  ...       0.000000        0.000000\n",
              "25%         0.000000       0.000000  ...       0.000000        3.000000\n",
              "50%         0.000000       0.500000  ...       0.000000        4.000000\n",
              "75%         1.000000       1.000000  ...       1.000000        6.000000\n",
              "max         1.000000       1.000000  ...       1.000000       10.000000\n",
              "\n",
              "[8 rows x 21 columns]"
            ]
          },
          "metadata": {
            "tags": []
          }
        }
      ]
    },
    {
      "cell_type": "code",
      "metadata": {
        "colab": {
          "base_uri": "https://localhost:8080/"
        },
        "id": "e6AefR95tWjE",
        "outputId": "12c403f8-1e09-4464-a569-aae7480c278a"
      },
      "source": [
        "df.info()"
      ],
      "execution_count": 14,
      "outputs": [
        {
          "output_type": "stream",
          "text": [
            "<class 'pandas.core.frame.DataFrame'>\n",
            "RangeIndex: 316800 entries, 0 to 316799\n",
            "Data columns (total 21 columns):\n",
            " #   Column                   Non-Null Count   Dtype\n",
            "---  ------                   --------------   -----\n",
            " 0   Fever                    316800 non-null  int64\n",
            " 1   Tiredness                316800 non-null  int64\n",
            " 2   Dry-Cough                316800 non-null  int64\n",
            " 3   Difficulty-in-Breathing  316800 non-null  int64\n",
            " 4   Sore-Throat              316800 non-null  int64\n",
            " 5   Pains                    316800 non-null  int64\n",
            " 6   Nasal-Congestion         316800 non-null  int64\n",
            " 7   Runny-Nose               316800 non-null  int64\n",
            " 8   Diarrhea                 316800 non-null  int64\n",
            " 9   Age_0-9                  316800 non-null  int64\n",
            " 10  Age_10-19                316800 non-null  int64\n",
            " 11  Age_20-24                316800 non-null  int64\n",
            " 12  Age_25-59                316800 non-null  int64\n",
            " 13  Age_60+                  316800 non-null  int64\n",
            " 14  Gender_Female            316800 non-null  int64\n",
            " 15  Gender_Male              316800 non-null  int64\n",
            " 16  Gender_Transgender       316800 non-null  int64\n",
            " 17  Contact_Dont-Know        316800 non-null  int64\n",
            " 18  Contact_No               316800 non-null  int64\n",
            " 19  Contact_Yes              316800 non-null  int64\n",
            " 20  Symptoms_Score           316800 non-null  int64\n",
            "dtypes: int64(21)\n",
            "memory usage: 50.8 MB\n"
          ],
          "name": "stdout"
        }
      ]
    },
    {
      "cell_type": "markdown",
      "metadata": {
        "id": "9BjpxzwSObtu"
      },
      "source": [
        "Thankfully, there is no non-null value in any column."
      ]
    },
    {
      "cell_type": "markdown",
      "metadata": {
        "id": "Kol-Oh9vBIPq"
      },
      "source": [
        "<h2>Looking for correlations:"
      ]
    },
    {
      "cell_type": "code",
      "metadata": {
        "colab": {
          "base_uri": "https://localhost:8080/"
        },
        "id": "niG2EsXEBOUG",
        "outputId": "ddfc0570-f9f9-4ffe-fa31-2779bbb9c5e8"
      },
      "source": [
        "corr_matrix = df.corr()\n",
        "corr_matrix[\"Symptoms_Score\"].sort_values(ascending=False)"
      ],
      "execution_count": 15,
      "outputs": [
        {
          "output_type": "execute_result",
          "data": {
            "text/plain": [
              "Symptoms_Score             1.000000e+00\n",
              "Dry-Cough                  5.118873e-01\n",
              "Tiredness                  4.514422e-01\n",
              "Difficulty-in-Breathing    4.514422e-01\n",
              "Runny-Nose                 4.149903e-01\n",
              "Nasal-Congestion           4.149903e-01\n",
              "Fever                      3.043622e-01\n",
              "Sore-Throat                3.043622e-01\n",
              "Diarrhea                   2.863705e-01\n",
              "Pains                      2.863705e-01\n",
              "Contact_Yes                2.619223e-01\n",
              "Gender_Transgender         2.643565e-19\n",
              "Age_25-59                  2.073736e-19\n",
              "Age_20-24                  2.073736e-19\n",
              "Age_10-19                  2.073736e-19\n",
              "Age_60+                    1.674566e-19\n",
              "Gender_Female              7.600250e-20\n",
              "Gender_Male               -1.354827e-19\n",
              "Age_0-9                   -2.911019e-19\n",
              "Contact_Dont-Know         -1.309612e-01\n",
              "Contact_No                -1.309612e-01\n",
              "Name: Symptoms_Score, dtype: float64"
            ]
          },
          "metadata": {
            "tags": []
          },
          "execution_count": 15
        }
      ]
    },
    {
      "cell_type": "markdown",
      "metadata": {
        "id": "Kxwe8VTTCBfr"
      },
      "source": [
        "As we see here, Dry-Cough, Tiredness, Breathing Difficulty, Runny Nose and Nasal Congestion mostly affect the Symptoms_Score."
      ]
    },
    {
      "cell_type": "markdown",
      "metadata": {
        "id": "NBWVfcg6C4Id"
      },
      "source": [
        "<h2>Data Visualization"
      ]
    },
    {
      "cell_type": "code",
      "metadata": {
        "colab": {
          "base_uri": "https://localhost:8080/",
          "height": 734
        },
        "id": "26e2DbO1C9oO",
        "outputId": "faed340e-2772-4d87-c373-800077bf1d4f"
      },
      "source": [
        "import matplotlib.pyplot as plt\n",
        "df.hist(bins = 10,figsize=(20,15))\n",
        "plt.show()"
      ],
      "execution_count": 16,
      "outputs": [
        {
          "output_type": "display_data",
          "data": {
            "image/png": "[encoded data removed]",
            "text/plain": [
              "<Figure size 1440x1080 with 25 Axes>"
            ]
          },
          "metadata": {
            "tags": [],
            "needs_background": "light"
          }
        }
      ]
    },
    {
      "cell_type": "markdown",
      "metadata": {
        "id": "FvKlPiLqZIUX"
      },
      "source": [
        "<h2>Separating Data and target "
      ]
    },
    {
      "cell_type": "code",
      "metadata": {
        "id": "Uk0Scifmabmb"
      },
      "source": [
        "X = df.iloc[:, :20].values #for deployment [:, :11]\n",
        "y = df.iloc[:,20:21].values #for deployment [:, 11:12]"
      ],
      "execution_count": 17,
      "outputs": []
    },
    {
      "cell_type": "code",
      "metadata": {
        "colab": {
          "base_uri": "https://localhost:8080/"
        },
        "id": "SJC7242KhEU-",
        "outputId": "604c0fda-b020-496d-ab25-eb968a41ecdd"
      },
      "source": [
        "X"
      ],
      "execution_count": 18,
      "outputs": [
        {
          "output_type": "execute_result",
          "data": {
            "text/plain": [
              "array([[1, 1, 1, ..., 0, 0, 1],\n",
              "       [1, 1, 1, ..., 0, 1, 0],\n",
              "       [1, 1, 1, ..., 1, 0, 0],\n",
              "       ...,\n",
              "       [0, 0, 0, ..., 0, 0, 1],\n",
              "       [0, 0, 0, ..., 0, 1, 0],\n",
              "       [0, 0, 0, ..., 1, 0, 0]], dtype=int64)"
            ]
          },
          "metadata": {
            "tags": []
          },
          "execution_count": 18
        }
      ]
    },
    {
      "cell_type": "code",
      "metadata": {
        "colab": {
          "base_uri": "https://localhost:8080/"
        },
        "id": "Fp9Yh_8jhGkB",
        "outputId": "370d327b-5fa6-4d2a-b43d-f5b38cecc70f"
      },
      "source": [
        "y"
      ],
      "execution_count": 19,
      "outputs": [
        {
          "output_type": "execute_result",
          "data": {
            "text/plain": [
              "array([[10],\n",
              "       [ 9],\n",
              "       [ 9],\n",
              "       ...,\n",
              "       [ 1],\n",
              "       [ 0],\n",
              "       [ 0]], dtype=int64)"
            ]
          },
          "metadata": {
            "tags": []
          },
          "execution_count": 19
        }
      ]
    },
    {
      "cell_type": "code",
      "metadata": {
        "colab": {
          "base_uri": "https://localhost:8080/"
        },
        "id": "8_iIEjndbXm_",
        "outputId": "5237984a-17a8-45fd-f155-6ad828aec3d6"
      },
      "source": [
        "X.shape"
      ],
      "execution_count": 20,
      "outputs": [
        {
          "output_type": "execute_result",
          "data": {
            "text/plain": [
              "(316800, 20)"
            ]
          },
          "metadata": {
            "tags": []
          },
          "execution_count": 20
        }
      ]
    },
    {
      "cell_type": "code",
      "metadata": {
        "colab": {
          "base_uri": "https://localhost:8080/"
        },
        "id": "va_R0aSvhRka",
        "outputId": "3e3fda06-13ec-4bc7-fad2-c3e45a2a7341"
      },
      "source": [
        "y.shape"
      ],
      "execution_count": 21,
      "outputs": [
        {
          "output_type": "execute_result",
          "data": {
            "text/plain": [
              "(316800, 1)"
            ]
          },
          "metadata": {
            "tags": []
          },
          "execution_count": 21
        }
      ]
    },
    {
      "cell_type": "markdown",
      "metadata": {
        "id": "FqCsj9pUYGri"
      },
      "source": [
        "<h2>Splitting Train and Test dataset."
      ]
    },
    {
      "cell_type": "code",
      "metadata": {
        "id": "aSjkGK5UYMi0"
      },
      "source": [
        "from sklearn.model_selection import train_test_split\n",
        "X_train, X_test, y_train, y_test = train_test_split(X, y, test_size=0.20, random_state=42)"
      ],
      "execution_count": 22,
      "outputs": []
    },
    {
      "cell_type": "markdown",
      "metadata": {
        "id": "YpqIjO2rUNWJ"
      },
      "source": [
        "<h2>A function for calculating the performance measurements of different Models."
      ]
    },
    {
      "cell_type": "code",
      "metadata": {
        "id": "FR2AaYFpRprs"
      },
      "source": [
        "from sklearn import metrics\n",
        "def performance_measurements(model_name,pred_data):\n",
        "  cm = metrics.confusion_matrix(y_test, pred_data) \n",
        "  print(\"Confusion Matrix of\"+model_name+\":\",cm)\n",
        "\n",
        "  accuracy = metrics.accuracy_score(y_test, pred_data) \n",
        "  print(\"Accuracy score of \"+model_name+\":\",accuracy)  \n",
        "\n",
        "  precision = metrics.precision_score(y_test, pred_data,pos_label='positive',\n",
        "                                           average='micro') \n",
        "  print(\"Precision score of\"+model_name+\":\",precision)\n",
        "\n",
        "  recall = metrics.recall_score(y_test, pred_data,pos_label='positive',\n",
        "                                           average='micro') \n",
        "  print(\"Recall score of\"+model_name+\":\",recall)\n",
        "\n",
        "  f1_score = metrics.f1_score(y_test, pred_data,pos_label='positive',\n",
        "                                           average='micro')\n",
        "  print(\"F1 score of\"+model_name+\":\",f1_score)"
      ],
      "execution_count": 23,
      "outputs": []
    },
    {
      "cell_type": "markdown",
      "metadata": {
        "id": "eLEwfsCYyLTX"
      },
      "source": [
        "<h3> Trying our Models: <br> \n",
        "1. Linear Regression"
      ]
    },
    {
      "cell_type": "markdown",
      "metadata": {
        "id": "Mp5Pe300qOMc"
      },
      "source": [
        "Fitting:"
      ]
    },
    {
      "cell_type": "code",
      "metadata": {
        "colab": {
          "base_uri": "https://localhost:8080/"
        },
        "id": "nESDoSqyyOLk",
        "outputId": "42cc0222-2bb0-4614-af76-56a6cac78aa1"
      },
      "source": [
        "from sklearn.linear_model import LinearRegression\n",
        "lr = LinearRegression()\n",
        "lr.fit(X_train, y_train)"
      ],
      "execution_count": 24,
      "outputs": [
        {
          "output_type": "execute_result",
          "data": {
            "text/plain": [
              "LinearRegression(copy_X=True, fit_intercept=True, n_jobs=None, normalize=False)"
            ]
          },
          "metadata": {
            "tags": []
          },
          "execution_count": 24
        }
      ]
    },
    {
      "cell_type": "markdown",
      "metadata": {
        "id": "aaAIfOZMNlkU"
      },
      "source": [
        "Prediction:"
      ]
    },
    {
      "cell_type": "code",
      "metadata": {
        "id": "TiSss3OdzFyh"
      },
      "source": [
        "y_pred_lr = lr.predict(X_test).astype(int)"
      ],
      "execution_count": 25,
      "outputs": []
    },
    {
      "cell_type": "code",
      "metadata": {
        "colab": {
          "base_uri": "https://localhost:8080/"
        },
        "id": "Bl-vKAr01g0V",
        "outputId": "dae58068-de32-4b5f-b8b0-97184081cd82"
      },
      "source": [
        "y_pred_lr"
      ],
      "execution_count": 26,
      "outputs": [
        {
          "output_type": "execute_result",
          "data": {
            "text/plain": [
              "array([[4],\n",
              "       [3],\n",
              "       [2],\n",
              "       ...,\n",
              "       [6],\n",
              "       [3],\n",
              "       [3]])"
            ]
          },
          "metadata": {
            "tags": []
          },
          "execution_count": 26
        }
      ]
    },
    {
      "cell_type": "markdown",
      "metadata": {
        "id": "-a1wVS2QNvyC"
      },
      "source": [
        "Performance Measurement of Linear Regression:"
      ]
    },
    {
      "cell_type": "code",
      "metadata": {
        "colab": {
          "base_uri": "https://localhost:8080/"
        },
        "id": "fsf5bA6QTz0c",
        "outputId": "0f120108-acf5-42dd-812c-47cc4baad593"
      },
      "source": [
        "performance_measurements(\"Linear Regression\",y_pred_lr)"
      ],
      "execution_count": 27,
      "outputs": [
        {
          "output_type": "stream",
          "text": [
            "Confusion Matrix ofLinear Regression: [[ 240    0    0    0    0    0    0    0    0    0    0]\n",
            " [2028  257    0    0    0    0    0    0    0    0    0]\n",
            " [   0 5921 1620    0    0    0    0    0    0    0    0]\n",
            " [   0    0 7852 4064    0    0    0    0    0    0    0]\n",
            " [   0    0    0 6356 6892    0    0    0    0    0    0]\n",
            " [   0    0    0    0 3912 7972    0    0    0    0    0]\n",
            " [   0    0    0    0    0 1570 6892    0    0    0    0]\n",
            " [   0    0    0    0    0    0  275 4492    0    0    0]\n",
            " [   0    0    0    0    0    0    0   27 2110    0    0]\n",
            " [   0    0    0    0    0    0    0    0    0  767    0]\n",
            " [   0    0    0    0    0    0    0    0    0    0  113]]\n",
            "Accuracy score of Linear Regression: 0.5590119949494949\n",
            "Precision score ofLinear Regression: 0.5590119949494949\n",
            "Recall score ofLinear Regression: 0.5590119949494949\n",
            "F1 score ofLinear Regression: 0.5590119949494949\n"
          ],
          "name": "stdout"
        },
        {
          "output_type": "stream",
          "text": [
            "/usr/local/lib/python3.6/dist-packages/sklearn/metrics/_classification.py:1321: UserWarning: Note that pos_label (set to 'positive') is ignored when average != 'binary' (got 'micro'). You may use labels=[pos_label] to specify a single positive class.\n",
            "  % (pos_label, average), UserWarning)\n"
          ],
          "name": "stderr"
        }
      ]
    },
    {
      "cell_type": "markdown",
      "metadata": {
        "id": "8KH9JT32OVAk"
      },
      "source": [
        "<h2>2. K-Neighbours-Regressor"
      ]
    },
    {
      "cell_type": "markdown",
      "metadata": {
        "id": "ITUAaozFOXSC"
      },
      "source": [
        "Fitting:"
      ]
    },
    {
      "cell_type": "code",
      "metadata": {
        "colab": {
          "base_uri": "https://localhost:8080/"
        },
        "id": "A4LmbJFOKNaZ",
        "outputId": "09da306f-725b-4002-b559-0db30ebf08f8"
      },
      "source": [
        "from sklearn.neighbors import KNeighborsRegressor\n",
        "knr = KNeighborsRegressor(n_neighbors=5)\n",
        "knr.fit(X_train, y_train)"
      ],
      "execution_count": 28,
      "outputs": [
        {
          "output_type": "execute_result",
          "data": {
            "text/plain": [
              "KNeighborsRegressor(algorithm='auto', leaf_size=30, metric='minkowski',\n",
              "                    metric_params=None, n_jobs=None, n_neighbors=5, p=2,\n",
              "                    weights='uniform')"
            ]
          },
          "metadata": {
            "tags": []
          },
          "execution_count": 28
        }
      ]
    },
    {
      "cell_type": "markdown",
      "metadata": {
        "id": "aEVzN_exOZvw"
      },
      "source": [
        "Prediction:"
      ]
    },
    {
      "cell_type": "code",
      "metadata": {
        "colab": {
          "background_save": true
        },
        "id": "SIW8VGdpOyys"
      },
      "source": [
        "y_pred_knr = knr.predict(X_test).astype(int)"
      ],
      "execution_count": null,
      "outputs": []
    },
    {
      "cell_type": "markdown",
      "metadata": {
        "id": "J4UE1i-eOcqw"
      },
      "source": [
        "Performance measurement of K-Neighbours-Regressor:"
      ]
    },
    {
      "cell_type": "code",
      "metadata": {
        "colab": {
          "background_save": true
        },
        "id": "k969V2bpOfBv"
      },
      "source": [
        "performance_measurements(\"KNeighborsRegressor\",y_pred_knr)"
      ],
      "execution_count": null,
      "outputs": []
    },
    {
      "cell_type": "markdown",
      "metadata": {
        "id": "vS8P5JjXWSQU"
      },
      "source": [
        "<h2>3. Decision Tree Regressor\n",
        "\n"
      ]
    },
    {
      "cell_type": "markdown",
      "metadata": {
        "id": "Csk2b3JhXTAD"
      },
      "source": [
        "Fitting:"
      ]
    },
    {
      "cell_type": "code",
      "metadata": {
        "colab": {
          "background_save": true
        },
        "id": "IldPDLreWXJf"
      },
      "source": [
        "from sklearn.tree import DecisionTreeRegressor\n",
        "dtr = DecisionTreeRegressor(random_state=0)\n",
        "dtr.fit(X_train, y_train)"
      ],
      "execution_count": null,
      "outputs": []
    },
    {
      "cell_type": "markdown",
      "metadata": {
        "id": "1d0pTuOFrFbP"
      },
      "source": [
        "Prediction:"
      ]
    },
    {
      "cell_type": "code",
      "metadata": {
        "colab": {
          "background_save": true
        },
        "id": "-6_P7x8HXeYy"
      },
      "source": [
        "y_pred_dtr = dtr.predict(X_test).astype(int)"
      ],
      "execution_count": null,
      "outputs": []
    },
    {
      "cell_type": "markdown",
      "metadata": {
        "id": "P_TgHxiWrKei"
      },
      "source": [
        "Performance of Decision Tree Regressor:"
      ]
    },
    {
      "cell_type": "code",
      "metadata": {
        "colab": {
          "background_save": true
        },
        "id": "aKjihPE0Xn9p"
      },
      "source": [
        "performance_measurements(\"Decision Tree  Regression\",y_pred_dtr)"
      ],
      "execution_count": null,
      "outputs": []
    },
    {
      "cell_type": "markdown",
      "metadata": {
        "id": "8z2f8rCZQFl8"
      },
      "source": [
        "K Neighbours Regressor and Decision Tree Regressor provides surprisingly good and similar accuracy. We can implement either of these models for our deployment."
      ]
    },
    {
      "cell_type": "markdown",
      "metadata": {
        "id": "Bp5tiOb5-DSV"
      },
      "source": [
        "<h2>Evaluating Cross-Validation scores for each models."
      ]
    },
    {
      "cell_type": "code",
      "metadata": {
        "colab": {
          "background_save": true
        },
        "id": "21QR3vuK-Ksb"
      },
      "source": [
        "results = []\n",
        "names = []\n",
        "models = []\n",
        "models.append((\"LR\", lr))\n",
        "models.append((\"KNR\", knr))\n",
        "models.append((\"DTR\", dtr))"
      ],
      "execution_count": null,
      "outputs": []
    },
    {
      "cell_type": "code",
      "metadata": {
        "id": "6FXxNyBz-a9T"
      },
      "source": [
        "from sklearn.model_selection import StratifiedKFold\n",
        "from sklearn.model_selection import cross_val_score\n",
        "for name, model in models:\n",
        "\tkfold = StratifiedKFold(n_splits=5, random_state=0, shuffle=True)\n",
        "\tcv_results = cross_val_score(model, X_train, y_train, cv=kfold)\n",
        "\tresults.append(cv_results)\n",
        "\tnames.append(name)\n",
        "\tprint('%s: %f (%f)' % (name, cv_results.mean(), cv_results.std()))"
      ],
      "execution_count": null,
      "outputs": []
    },
    {
      "cell_type": "markdown",
      "metadata": {
        "id": "GgFngg97T4qK"
      },
      "source": [
        "All of the models show similar CV scores."
      ]
    },
    {
      "cell_type": "code",
      "metadata": {
        "id": "gKnkPQlbEZN6"
      },
      "source": [
        "df"
      ],
      "execution_count": null,
      "outputs": []
    },
    {
      "cell_type": "markdown",
      "metadata": {
        "id": "nOCJiaVzVHUW"
      },
      "source": [
        "<h2>Custom prediction with DTR model"
      ]
    },
    {
      "cell_type": "code",
      "metadata": {
        "id": "n28DSO87EUFo"
      },
      "source": [
        "symptoms_matrix = [[1, 1, 1, 0, 1, 1, 1, 1, 0, 0, 0, 1, 0, 0, 0, 1, 0, 0, 0, 1]]\n",
        "final_prediction = dtr.predict(symptoms_matrix).astype(int)*10\n",
        "fp = final_prediction[0].astype(str)\n",
        "if symptoms_matrix[0][19] == 1:\n",
        "  print(\"Your symptoms match with \" + fp + \"% of the Covid symptoms.\\nAs you have been in contact with a Covid patient,\\n we highly recommend you to have a test and stay isolated unitil the result comes.\")\n",
        "elif symptoms_matrix[0][19] == 0:\n",
        "  print(\"Your symptoms match with \" + fp + \"% of the Covid symptoms.\")"
      ],
      "execution_count": null,
      "outputs": []
    }
  ]
}